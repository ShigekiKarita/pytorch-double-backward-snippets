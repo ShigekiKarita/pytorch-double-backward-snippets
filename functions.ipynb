{
 "cells": [
  {
   "cell_type": "code",
   "execution_count": 1,
   "metadata": {},
   "outputs": [],
   "source": [
    "import torch\n",
    "from torch.autograd import Variable, grad"
   ]
  },
  {
   "cell_type": "code",
   "execution_count": 20,
   "metadata": {},
   "outputs": [],
   "source": [
    "x = Variable(torch.rand(2, 2) + torch.eye(2), requires_grad=True)\n",
    "\n",
    "# inverse, Cholesky, QR\n",
    "for f in [torch.inverse, torch.potrf, torch.geqrf]:\n",
    "    y = x.potrf()\n",
    "    y.sum().backward()\n",
    "    x.grad"
   ]
  },
  {
   "cell_type": "code",
   "execution_count": 30,
   "metadata": {},
   "outputs": [
    {
     "data": {
      "text/plain": [
       "(Variable containing:\n",
       "  0  0  0  0\n",
       "  0  0  0  0\n",
       "  0  0  0  0\n",
       " [torch.FloatTensor of size 3x4],)"
      ]
     },
     "execution_count": 30,
     "metadata": {},
     "output_type": "execute_result"
    }
   ],
   "source": [
    "x = Variable(torch.randn(3, 4), requires_grad=True)\n",
    "y = torch.nn.functional.relu(x)\n",
    "dx = grad(y, x, torch.ones_like(y))\n",
    "ddx = grad(dx, x, torch.ones_like(y))\n",
    "ddx\n",
    "# error no grad_fn: dddx = grad(ddx, x, torch.ones_like(y))"
   ]
  },
  {
   "cell_type": "code",
   "execution_count": 71,
   "metadata": {},
   "outputs": [
    {
     "data": {
      "text/plain": [
       "((<AddBackward_Deprecated at 0x7efdada014e0>, 0),\n",
       " (<torch.autograd.function.SetItemBackward at 0x7efdad8e9ca8>, 0))"
      ]
     },
     "execution_count": 71,
     "metadata": {},
     "output_type": "execute_result"
    }
   ],
   "source": [
    "ddx.grad_fn.next_functions"
   ]
  },
  {
   "cell_type": "code",
   "execution_count": 53,
   "metadata": {},
   "outputs": [
    {
     "name": "stdout",
     "output_type": "stream",
     "text": [
      "Variable containing:\n",
      " 19.0546\n",
      "  8.1308\n",
      "[torch.FloatTensor of size 2]\n",
      " Variable containing:\n",
      " 19.0546\n",
      "  8.1308\n",
      "[torch.FloatTensor of size 2]\n",
      "\n"
     ]
    }
   ],
   "source": [
    "def f(x):\n",
    "    return (x[0] - 1)**2 + 10 * (x[0]**2 - x[1])**2\n",
    "\n",
    "x = Variable(torch.randn(2), requires_grad=True)\n",
    "y = f(x)\n",
    "# scalar variable has implicit output_grad = 1.0\n",
    "# create_graph make dx.volatile=False\n",
    "dx = grad(y, x, create_graph=True)[0]\n",
    "# non scalar variable requries explict output_grad\n",
    "ddx = grad(dx, x, torch.ones_like(dx))[0]  # []\n",
    "\n",
    "# grad frees intermediate grads by default\n",
    "ddx0 = grad(dx[0], x, retain_graph=True)[0]  # [df/dx0dx0, df/dx0dx1]\n",
    "ddx1 = grad(dx[1], x)[0] # [df/dx1dx0, df/dx1dx1]\n",
    "hesse = torch.stack((ddx0, ddx1))\n",
    "print(ddx, ddx0 + ddx1)"
   ]
  },
  {
   "cell_type": "code",
   "execution_count": 54,
   "metadata": {},
   "outputs": [
    {
     "data": {
      "text/plain": [
       "Variable containing:\n",
       " 30.9238 -11.8692\n",
       "-11.8692  20.0000\n",
       "[torch.FloatTensor of size 2x2]"
      ]
     },
     "execution_count": 54,
     "metadata": {},
     "output_type": "execute_result"
    }
   ],
   "source": [
    "hesse"
   ]
  },
  {
   "cell_type": "code",
   "execution_count": 56,
   "metadata": {},
   "outputs": [
    {
     "data": {
      "text/plain": [
       "Variable containing:\n",
       "-11.8692\n",
       " 20.0000\n",
       "[torch.FloatTensor of size 2]"
      ]
     },
     "execution_count": 56,
     "metadata": {},
     "output_type": "execute_result"
    }
   ],
   "source": [
    "ddx1"
   ]
  },
  {
   "cell_type": "code",
   "execution_count": null,
   "metadata": {},
   "outputs": [],
   "source": []
  }
 ],
 "metadata": {
  "kernelspec": {
   "display_name": "Python 3",
   "language": "python",
   "name": "python3"
  },
  "language_info": {
   "codemirror_mode": {
    "name": "ipython",
    "version": 3
   },
   "file_extension": ".py",
   "mimetype": "text/x-python",
   "name": "python",
   "nbconvert_exporter": "python",
   "pygments_lexer": "ipython3",
   "version": "3.6.3"
  }
 },
 "nbformat": 4,
 "nbformat_minor": 2
}
